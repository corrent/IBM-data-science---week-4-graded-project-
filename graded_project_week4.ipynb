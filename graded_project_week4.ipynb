{
 "cells": [
  {
   "cell_type": "markdown",
   "id": "2eba2b31",
   "metadata": {},
   "source": [
    "# My Jupyter Notebook on IBM Watson Studio"
   ]
  },
  {
   "cell_type": "markdown",
   "id": "755b0c86",
   "metadata": {},
   "source": [
    "**Karol** shopkeeper"
   ]
  },
  {
   "cell_type": "markdown",
   "id": "ad97b4d4",
   "metadata": {},
   "source": [
    "<i>I would love to be a data analyst. I love go through data and find connections between different actions. I use it in my current sales job to create better offers for customers and I would love to continue to do so</i> "
   ]
  },
  {
   "cell_type": "markdown",
   "id": "47bad7ee",
   "metadata": {},
   "source": [
    "### I will show you a magic of math simply by adding. This code below will return number: 4"
   ]
  },
  {
   "cell_type": "code",
   "execution_count": 5,
   "id": "28f85847",
   "metadata": {},
   "outputs": [
    {
     "data": {
      "text/plain": [
       "4"
      ]
     },
     "execution_count": 5,
     "metadata": {},
     "output_type": "execute_result"
    }
   ],
   "source": [
    "2+2"
   ]
  },
  {
   "cell_type": "markdown",
   "id": "81f5cc6b",
   "metadata": {},
   "source": [
    "My bullet list:\n",
    "- first item\n",
    "- second item \n",
    "- third item "
   ]
  },
  {
   "cell_type": "markdown",
   "id": "79197575",
   "metadata": {},
   "source": [
    "My beautifull image\n",
    "<img src=\"https://i.etsystatic.com/5376657/r/il/4dead6/1511480960/il_570xN.1511480960_7c63.jpg\" alt=\"lol cat with a hat\" title=\"cat\" />"
   ]
  },
  {
   "cell_type": "markdown",
   "id": "ab603ba5",
   "metadata": {},
   "source": [
    "| Hat colour | Does have wings | eyes |\n",
    "| --- | --- | --- |\n",
    "| multicolour | yes | open |"
   ]
  },
  {
   "cell_type": "code",
   "execution_count": null,
   "id": "eba0602d",
   "metadata": {},
   "outputs": [],
   "source": []
  }
 ],
 "metadata": {
  "kernelspec": {
   "display_name": "Python 3 (ipykernel)",
   "language": "python",
   "name": "python3"
  },
  "language_info": {
   "codemirror_mode": {
    "name": "ipython",
    "version": 3
   },
   "file_extension": ".py",
   "mimetype": "text/x-python",
   "name": "python",
   "nbconvert_exporter": "python",
   "pygments_lexer": "ipython3",
   "version": "3.9.13"
  }
 },
 "nbformat": 4,
 "nbformat_minor": 5
}
